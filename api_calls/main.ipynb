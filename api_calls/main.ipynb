{
 "cells": [
  {
   "cell_type": "code",
   "execution_count": 4,
   "metadata": {},
   "outputs": [],
   "source": [
    "import requests\n",
    "import pandas as pd \n",
    "from tqdm.notebook import tqdm"
   ]
  },
  {
   "cell_type": "code",
   "execution_count": 2,
   "metadata": {},
   "outputs": [],
   "source": [
    "api_key = None"
   ]
  },
  {
   "cell_type": "code",
   "execution_count": 3,
   "metadata": {},
   "outputs": [],
   "source": [
    "markets = [\n",
    "    'de_DE',\n",
    "    'en_US',\n",
    "]\n",
    "\n",
    "headers = {\n",
    "    'accept': 'application/json',\n",
    "    'x-api-key': api_key,\n",
    "}"
   ]
  },
  {
   "cell_type": "code",
   "execution_count": 5,
   "metadata": {},
   "outputs": [
    {
     "name": "stdout",
     "output_type": "stream",
     "text": [
      "de_DE KOMPAKT-LIMOUSINE\n",
      "de_DE LIMOUSINE\n",
      "de_DE COUPE\n",
      "de_DE T-MODELL\n",
      "de_DE OFFROADER\n",
      "de_DE GELAENDEWAGEN\n",
      "de_DE ROADSTER\n",
      "de_DE LIMOUSINE_LANG\n",
      "de_DE 4-TUERER COUPE\n",
      "de_DE SPORTS TOURER\n",
      "de_DE SHOOTING BRAKE\n",
      "de_DE CABRIOLET\n",
      "de_DE MAYBACH\n",
      "de_DE CHASSIS\n",
      "de_DE CHASSIS-CC\n",
      "de_DE PANEL-VAN\n",
      "de_DE TOURER\n",
      "de_DE PANEL-VAN\n",
      "de_DE PEOPLE-CARRIER\n",
      "de_DE TOURER\n",
      "de_DE TOURER\n",
      "de_DE MIXTO\n",
      "de_DE PEOPLE-CARRIER\n",
      "de_DE MARCO-POLO\n",
      "de_DE PANEL-VAN\n",
      "en_US CABRIOLET\n",
      "en_US COUPE\n",
      "en_US LIMOUSINE\n",
      "en_US OFFROADER\n",
      "en_US ROADSTER\n",
      "en_US LIMOUSINE_LANG\n",
      "en_US 4-TUERER COUPE\n",
      "en_US T-MODELL\n",
      "en_US GELAENDEWAGEN\n",
      "en_US MAYBACH\n",
      "en_US CHASSIS\n",
      "en_US PANEL-VAN\n",
      "en_US TOURER\n"
     ]
    }
   ],
   "source": [
    "data = {\n",
    "    'market_id': [],\n",
    "    'model_id': [],\n",
    "    'type_class': [],\n",
    "    'name': [],\n",
    "    'short_name': [],\n",
    "    'brand': [],\n",
    "    'baumuster': [],\n",
    "    'class': [],\n",
    "    'body': [],\n",
    "    'model_year': [],\n",
    "    'product_group': [],\n",
    "    'all_terrain': [],\n",
    "    'currency': [],\n",
    "    'net_price': [],\n",
    "    'price': [],\n",
    "    'steering_position': [],\n",
    "}\n",
    "\n",
    "save_all_data = {}\n",
    "\n",
    "for market_id in markets:\n",
    "    url = f'https://api.mercedes-benz.com/configurator/v2/markets/{market_id}/bodies'\n",
    "\n",
    "    response = requests.get(url, headers=headers)\n",
    "    if response.status_code == 200:\n",
    "        bodies = response.json()\n",
    "    else:\n",
    "        raise Exception(f'Body request {url} failed')\n",
    "    \n",
    "    save_all_data[market_id] = {'bodies': bodies}\n",
    "    bodies = [body['bodyId'] for body in bodies]\n",
    "\n",
    "    for body_id in bodies:\n",
    "        url = f'https://api.mercedes-benz.com/configurator/v2/markets/{market_id}/models?bodyId={body_id}'\n",
    "\n",
    "        response = requests.get(url, headers=headers)\n",
    "        if response.status_code == 200:\n",
    "            models = response.json()\n",
    "        else:\n",
    "            raise Exception(f'Models request {url} failed')\n",
    "\n",
    "        print(market_id, body_id)\n",
    "        for model in models:\n",
    "            data['market_id'].append(market_id)\n",
    "            data['model_id'].append(model['modelId'])\n",
    "            data['type_class'].append(model['typeClass'])\n",
    "            data['name'].append(model['name'])\n",
    "            data['short_name'].append(model['shortName'])\n",
    "            data['brand'].append(model['brand']['name'])\n",
    "            data['baumuster'].append(model['baumuster'])\n",
    "            data['class'].append(model['vehicleClass']['className'])\n",
    "            data['body'].append(model['vehicleBody']['bodyName'])\n",
    "            data['model_year'].append(model['modelYear'])\n",
    "            data['product_group'].append(model['productGroup'])\n",
    "            data['all_terrain'].append(model['allTerrain'])\n",
    "            data['currency'].append(model['priceInformation']['currency'])\n",
    "            data['net_price'].append(model['priceInformation']['netPrice'])\n",
    "            data['price'].append(model['priceInformation']['price'])\n",
    "            data['steering_position'].append(model['steeringPosition'])"
   ]
  },
  {
   "cell_type": "code",
   "execution_count": 6,
   "metadata": {},
   "outputs": [],
   "source": [
    "df = pd.DataFrame(data)"
   ]
  },
  {
   "cell_type": "code",
   "execution_count": 7,
   "metadata": {},
   "outputs": [],
   "source": [
    "df_ev = pd.concat([\n",
    "    df.query('name.str.contains(\"EQ\")'),\n",
    "    df.query('name.str.contains(\" E \")'),\n",
    "    df.query('name.str.contains(\"HYBRID\")'),\n",
    "]).drop_duplicates()\n"
   ]
  },
  {
   "cell_type": "code",
   "execution_count": 9,
   "metadata": {},
   "outputs": [],
   "source": [
    "df_ev.to_csv('mercedes_ev.csv', index=False)"
   ]
  },
  {
   "cell_type": "markdown",
   "metadata": {},
   "source": [
    "# Experiments"
   ]
  },
  {
   "cell_type": "code",
   "execution_count": null,
   "metadata": {},
   "outputs": [],
   "source": [
    "1 / 0"
   ]
  },
  {
   "cell_type": "code",
   "execution_count": 95,
   "metadata": {},
   "outputs": [],
   "source": [
    "language = 'en'\n",
    "\n",
    "url = f'https://api.mercedes-benz.com/configurator/v2/markets?language={language}'\n",
    "\n",
    "headers = {\n",
    "    'accept': 'application/json',\n",
    "    'x-api-key': api_key,\n",
    "}\n",
    "\n",
    "response = requests.get(url, headers=headers)\n",
    "if response.status_code == 200:\n",
    "    markets = response.json()\n",
    "else:\n",
    "    print(\"Request failed with status code:\", response.status_code)"
   ]
  },
  {
   "cell_type": "code",
   "execution_count": 7,
   "metadata": {},
   "outputs": [],
   "source": [
    "market_id = markets[0]['marketId']"
   ]
  },
  {
   "cell_type": "code",
   "execution_count": 8,
   "metadata": {},
   "outputs": [],
   "source": [
    "url = f'https://api.mercedes-benz.com/configurator/v2/markets/{market_id}/bodies'\n",
    "\n",
    "response = requests.get(url, headers=headers)\n",
    "if response.status_code == 200:\n",
    "    bodies = response.json()\n",
    "else:\n",
    "    print(\"Request failed with status code:\", response.status_code)"
   ]
  },
  {
   "cell_type": "code",
   "execution_count": 12,
   "metadata": {},
   "outputs": [],
   "source": [
    "body_id = bodies[2]['bodyId']"
   ]
  },
  {
   "cell_type": "code",
   "execution_count": 13,
   "metadata": {},
   "outputs": [],
   "source": [
    "url = f'https://api.mercedes-benz.com/configurator/v2/markets/{market_id}/models?bodyId={body_id}'\n",
    "\n",
    "response = requests.get(url, headers=headers)\n",
    "if response.status_code == 200:\n",
    "    models = response.json()\n",
    "else:\n",
    "    print(\"Request failed with status code:\", response.status_code)"
   ]
  },
  {
   "cell_type": "code",
   "execution_count": 20,
   "metadata": {},
   "outputs": [],
   "source": [
    "model_id = models[0]['modelId']"
   ]
  },
  {
   "cell_type": "code",
   "execution_count": 24,
   "metadata": {},
   "outputs": [],
   "source": [
    "url = models[0]['_links']['configurations']\n",
    "\n",
    "response = requests.get(url, headers=headers)\n",
    "if response.status_code == 200:\n",
    "    configurations = response.json()\n",
    "else:\n",
    "    print(\"Request failed with status code:\", response.status_code)"
   ]
  },
  {
   "cell_type": "code",
   "execution_count": 27,
   "metadata": {},
   "outputs": [],
   "source": [
    "url = configurations['_links']['selectables']\n",
    "response = requests.get(url, headers=headers)\n",
    "if response.status_code == 200:\n",
    "    selectables = response.json()\n",
    "else:\n",
    "    print(\"Request failed with status code:\", response.status_code)"
   ]
  },
  {
   "cell_type": "code",
   "execution_count": 41,
   "metadata": {},
   "outputs": [],
   "source": [
    "conf_id = configurations['configurationId']"
   ]
  },
  {
   "cell_type": "code",
   "execution_count": 61,
   "metadata": {},
   "outputs": [],
   "source": [
    "url = f'https://api.mercedes-benz.com/configurator/v2/markets/{market_id}/models/{model_id}/configurations/{conf_id}/images/vehicle?perspectives=EXT020%2CINT1&roofOpen=false&night=false&background=true'\n",
    "\n",
    "response = requests.get(url, headers={'x-api-key': api_key})\n",
    "if response.status_code == 200:\n",
    "    imgs = response.json()\n",
    "else:\n",
    "    print(\"Request failed with status code:\", response.status_code)\n"
   ]
  },
  {
   "cell_type": "code",
   "execution_count": 62,
   "metadata": {},
   "outputs": [
    {
     "data": {
      "text/plain": [
       "'https://europe.starconnect-ce.i.mercedes-benz.com/iris/iris.webp?COSY-EU-100-1713d0VXqNEFqtyO67PobzIr3eWsrrCsdRRzwQZQ9vZbMw3SGtlaWtsd2HVcUfpOkXGEubSJ0l3IrOB2NS1bApj7oI5ux5xQC31CpkzNwPnm7jZeDhKV5pV%25vq4tTyLRgLFYaxPrWrH1eOdn8w0Q3oiZBklM4FAyrTg95Ye6PDakDSeWHXutsd8ZDcUfiMcXGE4JmJ0lgOrOB2Pz%25bApe7pI5usKDQC3vM7kzNLt6m7jaSthymI9WFAocUf8FfXGEH97J0lU9YOB2GyrbApF0MI5uC4zQC3zs3kzN7%259m7jKh3hKVvHW%25vqJtdyL0fsjko9wdYfHJyCiNRcYxqN88Zlo21Ix2rbpldCdcqcgVGB4NPVHF88iu&&BKGND=12&IMGT=W27&POV=BE020,PZM'"
      ]
     },
     "execution_count": 62,
     "metadata": {},
     "output_type": "execute_result"
    }
   ],
   "source": [
    "imgs['vehicle']['EXT020']['url']"
   ]
  },
  {
   "cell_type": "code",
   "execution_count": 55,
   "metadata": {},
   "outputs": [],
   "source": [
    "vehicle_id = configurations['vehicleId']"
   ]
  },
  {
   "cell_type": "code",
   "execution_count": 56,
   "metadata": {},
   "outputs": [
    {
     "name": "stdout",
     "output_type": "stream",
     "text": [
      "Request failed with status code: 500\n"
     ]
    }
   ],
   "source": [
    "url = f'https://api.mercedes-benz.com/configurator/v2/stocksearch/vehicles/{vehicle_id}'\n",
    "response = requests.get(url, headers=headers)\n",
    "if response.status_code == 200:\n",
    "    stocks = response.json()\n",
    "else:\n",
    "    print(\"Request failed with status code:\", response.status_code)\n"
   ]
  },
  {
   "cell_type": "code",
   "execution_count": 60,
   "metadata": {},
   "outputs": [
    {
     "data": {
      "text/plain": [
       "'f59b1db4-e310-4f7c-8ceb-8584ea3c8465'"
      ]
     },
     "execution_count": 60,
     "metadata": {},
     "output_type": "execute_result"
    }
   ],
   "source": [
    "api_key"
   ]
  },
  {
   "cell_type": "code",
   "execution_count": 59,
   "metadata": {},
   "outputs": [
    {
     "name": "stdout",
     "output_type": "stream",
     "text": [
      "\n",
      "                        {\n",
      "                        \"errorMessage\": \"Server Error\",\n",
      "                        \"statusCode\": \"500\"\n",
      "                        }\n",
      "                    "
     ]
    }
   ],
   "source": [
    "!curl -X GET \"$url\" -H \"accept: application/json\" -H \"x-api-key:$api_key\""
   ]
  },
  {
   "cell_type": "code",
   "execution_count": 65,
   "metadata": {},
   "outputs": [
    {
     "name": "stdout",
     "output_type": "stream",
     "text": [
      "Request failed with status code: 204\n"
     ]
    }
   ],
   "source": [
    "url = f'https://api.mercedes-benz.com/configurator/v2/vehicle-models/markets/{market_id}'\n",
    "\n",
    "response = requests.get(url, headers={'x-api-key': api_key})\n",
    "if response.status_code == 200:\n",
    "    detailed = response.json()\n",
    "else:\n",
    "    print(\"Request failed with status code:\", response.status_code)\n"
   ]
  },
  {
   "cell_type": "code",
   "execution_count": 66,
   "metadata": {},
   "outputs": [
    {
     "data": {
      "text/plain": [
       "'f59b1db4-e310-4f7c-8ceb-8584ea3c8465'"
      ]
     },
     "execution_count": 66,
     "metadata": {},
     "output_type": "execute_result"
    }
   ],
   "source": []
  },
  {
   "cell_type": "code",
   "execution_count": 73,
   "metadata": {},
   "outputs": [
    {
     "data": {
      "text/plain": [
       "{'modelId': '2363621',\n",
       " 'typeClass': 'C236',\n",
       " 'name': 'Mercedes-AMG CLE 53 4MATIC+ Coupé',\n",
       " 'shortName': 'Mercedes-AMG CLE 53 4MATIC+ Coupé',\n",
       " 'brand': {'name': 'Mercedes-AMG'},\n",
       " 'baumuster': '2363621',\n",
       " 'baumuster6': '236362',\n",
       " 'baureihe': '236',\n",
       " 'nationalSalesType': '',\n",
       " 'vehicleClass': {'classId': 'CLE-KLASSE',\n",
       "  'className': 'CLE',\n",
       "  '_links': {'self': 'https://api.mercedes-benz.com/configurator/v2/markets/de_DE/classes/CLE-KLASSE',\n",
       "   'models': 'https://api.mercedes-benz.com/configurator/v2/markets/de_DE/models?classId=CLE-KLASSE'}},\n",
       " 'vehicleBody': {'bodyId': 'COUPE',\n",
       "  'bodyName': 'Coupe',\n",
       "  '_links': {'self': 'https://api.mercedes-benz.com/configurator/v2/markets/de_DE/bodies/COUPE',\n",
       "   'models': 'https://api.mercedes-benz.com/configurator/v2/markets/de_DE/models?bodyId=COUPE'}},\n",
       " 'modelYear': '804',\n",
       " 'productGroup': 'PKW',\n",
       " 'productDivision': 0,\n",
       " 'lifeCycle': 'New model',\n",
       " 'facelift': False,\n",
       " 'allTerrain': False,\n",
       " 'customerGroups': ['PRIVATE'],\n",
       " 'priceInformation': {'currency': 'EUR',\n",
       "  'netPrice': 76900.0,\n",
       "  'price': 91511.0,\n",
       "  'taxes': [{'id': 'VAT',\n",
       "    'amount': 14611.0,\n",
       "    'baseAmount': 76900.0,\n",
       "    'rateInPercentage': 19.0,\n",
       "    'taxFlag': 'NONE'}]},\n",
       " 'steeringPosition': 'LEFT',\n",
       " 'validationStatus': {'valid': True},\n",
       " '_links': {'self': 'https://api.mercedes-benz.com/configurator/v2/markets/de_DE/models/2363621',\n",
       "  'configurations': 'https://api.mercedes-benz.com/configurator/v2/markets/de_DE/models/2363621/configurations/initial'}}"
      ]
     },
     "execution_count": 73,
     "metadata": {},
     "output_type": "execute_result"
    }
   ],
   "source": [
    "models[0]"
   ]
  },
  {
   "cell_type": "code",
   "execution_count": 78,
   "metadata": {},
   "outputs": [],
   "source": [
    "baumuster = models[0]['baumuster']\n",
    "model_year = models[0]['modelYear']"
   ]
  },
  {
   "cell_type": "code",
   "execution_count": 79,
   "metadata": {},
   "outputs": [
    {
     "name": "stdout",
     "output_type": "stream",
     "text": [
      "Request failed with status code: 404\n"
     ]
    }
   ],
   "source": [
    "url = f'https://api.mercedes-benz.com/configurator/v2/vehicle-models/markets/{market_id}/baumuster/{baumuster}?modelYear={model_year}'\n",
    "response = requests.get(url, headers=headers)\n",
    "if response.status_code == 200:\n",
    "    detailed = response.json()\n",
    "else:\n",
    "    print(\"Request failed with status code:\", response.status_code)\n"
   ]
  }
 ],
 "metadata": {
  "kernelspec": {
   "display_name": "base",
   "language": "python",
   "name": "python3"
  },
  "language_info": {
   "codemirror_mode": {
    "name": "ipython",
    "version": 3
   },
   "file_extension": ".py",
   "mimetype": "text/x-python",
   "name": "python",
   "nbconvert_exporter": "python",
   "pygments_lexer": "ipython3",
   "version": "3.12.2"
  }
 },
 "nbformat": 4,
 "nbformat_minor": 2
}
