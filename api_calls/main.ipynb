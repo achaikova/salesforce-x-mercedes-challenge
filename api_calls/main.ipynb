{
 "cells": [
  {
   "cell_type": "code",
   "execution_count": 1,
   "metadata": {},
   "outputs": [],
   "source": [
    "import requests\n",
    "import pandas as pd \n",
    "from tqdm.notebook import tqdm"
   ]
  },
  {
   "cell_type": "code",
   "execution_count": 2,
   "metadata": {},
   "outputs": [],
   "source": [
    "api_key = None"
   ]
  },
  {
   "cell_type": "code",
   "execution_count": 3,
   "metadata": {},
   "outputs": [],
   "source": [
    "markets = [\n",
    "    'de_DE',\n",
    "    'en_US',\n",
    "]\n",
    "\n",
    "headers = {\n",
    "    'accept': 'application/json',\n",
    "    'x-api-key': api_key,\n",
    "}"
   ]
  },
  {
   "cell_type": "code",
   "execution_count": 4,
   "metadata": {},
   "outputs": [
    {
     "data": {
      "application/vnd.jupyter.widget-view+json": {
       "model_id": "fe2f4934f7e04d8cb728a9dabdcb8f17",
       "version_major": 2,
       "version_minor": 0
      },
      "text/plain": [
       "  0%|          | 0/25 [00:00<?, ?it/s]"
      ]
     },
     "metadata": {},
     "output_type": "display_data"
    },
    {
     "data": {
      "application/vnd.jupyter.widget-view+json": {
       "model_id": "6b6263fbe12c4015b208f8c50d927f30",
       "version_major": 2,
       "version_minor": 0
      },
      "text/plain": [
       "  0%|          | 0/13 [00:00<?, ?it/s]"
      ]
     },
     "metadata": {},
     "output_type": "display_data"
    }
   ],
   "source": [
    "data = {\n",
    "    'market_id': [],\n",
    "    'model_id': [],\n",
    "    'type_class': [],\n",
    "    'name': [],\n",
    "    'short_name': [],\n",
    "    'brand': [],\n",
    "    'baumuster': [],\n",
    "    'class': [],\n",
    "    'body': [],\n",
    "    'model_year': [],\n",
    "    'product_group': [],\n",
    "    'all_terrain': [],\n",
    "    'currency': [],\n",
    "    'net_price': [],\n",
    "    'price': [],\n",
    "    'steering_position': [],\n",
    "    'conf_url': [],\n",
    "}\n",
    "\n",
    "save_all_data = {}\n",
    "\n",
    "for market_id in markets:\n",
    "    url = f'https://api.mercedes-benz.com/configurator/v2/markets/{market_id}/bodies'\n",
    "\n",
    "    response = requests.get(url, headers=headers)\n",
    "    if response.status_code == 200:\n",
    "        bodies = response.json()\n",
    "    else:\n",
    "        raise Exception(f'Body request {url} failed')\n",
    "    \n",
    "    save_all_data[market_id] = {'bodies': bodies}\n",
    "    bodies = [body['bodyId'] for body in bodies]\n",
    "\n",
    "    for body_id in tqdm(bodies):\n",
    "        url = f'https://api.mercedes-benz.com/configurator/v2/markets/{market_id}/models?bodyId={body_id}'\n",
    "\n",
    "        response = requests.get(url, headers=headers)\n",
    "        if response.status_code == 200:\n",
    "            models = response.json()\n",
    "        else:\n",
    "            raise Exception(f'Models request {url} failed')\n",
    "\n",
    "        for model in models:\n",
    "            data['market_id'].append(market_id)\n",
    "            data['model_id'].append(model['modelId'])\n",
    "            data['type_class'].append(model['typeClass'])\n",
    "            data['name'].append(model['name'])\n",
    "            data['short_name'].append(model['shortName'])\n",
    "            data['brand'].append(model['brand']['name'])\n",
    "            data['baumuster'].append(model['baumuster'])\n",
    "            data['class'].append(model['vehicleClass']['className'])\n",
    "            data['body'].append(model['vehicleBody']['bodyName'])\n",
    "            data['model_year'].append(model['modelYear'])\n",
    "            data['product_group'].append(model['productGroup'])\n",
    "            data['all_terrain'].append(model['allTerrain'])\n",
    "            data['currency'].append(model['priceInformation']['currency'])\n",
    "            data['net_price'].append(model['priceInformation']['netPrice'])\n",
    "            data['price'].append(model['priceInformation']['price'])\n",
    "            data['steering_position'].append(model['steeringPosition'])\n",
    "            data['conf_url'].append(model['_links']['configurations'])"
   ]
  },
  {
   "cell_type": "code",
   "execution_count": 5,
   "metadata": {},
   "outputs": [],
   "source": [
    "df = pd.DataFrame(data)"
   ]
  },
  {
   "cell_type": "code",
   "execution_count": 6,
   "metadata": {},
   "outputs": [],
   "source": [
    "df_ev = pd.concat([\n",
    "    df.query('name.str.contains(\"EQ\")'),\n",
    "    df.query('name.str.contains(\" E \")'),\n",
    "    df.query('name.str.contains(\"HYBRID\")'),\n",
    "]).drop_duplicates()\n"
   ]
  },
  {
   "cell_type": "code",
   "execution_count": 7,
   "metadata": {},
   "outputs": [],
   "source": [
    "df_ev.to_csv('mercedes_ev.csv', index=False)"
   ]
  },
  {
   "cell_type": "code",
   "execution_count": 8,
   "metadata": {},
   "outputs": [
    {
     "data": {
      "application/vnd.jupyter.widget-view+json": {
       "model_id": "34b264a38d3548c7aae4958b45a3ca07",
       "version_major": 2,
       "version_minor": 0
      },
      "text/plain": [
       "0it [00:00, ?it/s]"
      ]
     },
     "metadata": {},
     "output_type": "display_data"
    },
    {
     "name": "stdout",
     "output_type": "stream",
     "text": [
      "Request failed with status code: 500\n",
      "Request failed with status code: 500\n",
      "Request failed with status code: 500\n",
      "Request failed with status code: 500\n"
     ]
    }
   ],
   "source": [
    "configurations = []\n",
    "for _, market_id, model_id, url in tqdm(df_ev[['market_id', 'model_id', 'conf_url']].itertuples()):\n",
    "    response = requests.get(url, headers=headers)\n",
    "    if response.status_code == 200:\n",
    "        confs = response.json()\n",
    "    else:\n",
    "        print(\"Request failed with status code:\", response.status_code)\n",
    "        confs = {'configurationId': None}\n",
    "\n",
    "    configurations.append(confs['configurationId'])"
   ]
  },
  {
   "cell_type": "code",
   "execution_count": 9,
   "metadata": {},
   "outputs": [],
   "source": [
    "df_ev['conf_id'] = configurations"
   ]
  },
  {
   "cell_type": "code",
   "execution_count": 22,
   "metadata": {},
   "outputs": [],
   "source": [
    "api_key = 'd26895a7-ecc3-44e9-ad26-400087ce44ea'"
   ]
  },
  {
   "cell_type": "code",
   "execution_count": 23,
   "metadata": {},
   "outputs": [
    {
     "data": {
      "application/vnd.jupyter.widget-view+json": {
       "model_id": "3c150f3f16c74f6895850c6f82c82def",
       "version_major": 2,
       "version_minor": 0
      },
      "text/plain": [
       "0it [00:00, ?it/s]"
      ]
     },
     "metadata": {},
     "output_type": "display_data"
    },
    {
     "name": "stdout",
     "output_type": "stream",
     "text": [
      "Request failed with status code: 400\n",
      "Request failed with status code: 400\n",
      "Request failed with status code: 400\n",
      "Request failed with status code: 400\n",
      "Request failed with status code: 400\n",
      "Request failed with status code: 400\n",
      "Request failed with status code: 400\n",
      "Request failed with status code: 400\n",
      "Request failed with status code: 400\n",
      "Request failed with status code: 400\n",
      "Request failed with status code: 400\n",
      "Request failed with status code: 400\n",
      "Request failed with status code: 400\n",
      "Request failed with status code: 400\n",
      "Request failed with status code: 400\n",
      "Request failed with status code: 400\n",
      "Request failed with status code: 400\n",
      "Request failed with status code: 400\n",
      "Request failed with status code: 400\n",
      "Request failed with status code: 400\n",
      "Request failed with status code: 400\n",
      "Request failed with status code: 400\n",
      "Request failed with status code: 400\n",
      "Request failed with status code: 400\n",
      "Request failed with status code: 400\n",
      "Request failed with status code: 400\n",
      "Request failed with status code: 400\n",
      "Request failed with status code: 400\n",
      "Request failed with status code: 400\n",
      "Request failed with status code: 400\n",
      "Request failed with status code: 400\n",
      "Request failed with status code: 400\n",
      "Request failed with status code: 400\n",
      "Request failed with status code: 400\n",
      "Request failed with status code: 400\n",
      "Request failed with status code: 400\n",
      "Request failed with status code: 400\n",
      "Request failed with status code: 400\n",
      "Request failed with status code: 400\n",
      "Request failed with status code: 400\n",
      "Request failed with status code: 400\n",
      "Request failed with status code: 400\n",
      "Request failed with status code: 400\n",
      "Request failed with status code: 400\n",
      "Request failed with status code: 400\n",
      "Request failed with status code: 400\n",
      "Request failed with status code: 400\n",
      "Request failed with status code: 400\n",
      "Request failed with status code: 400\n",
      "Request failed with status code: 400\n",
      "Request failed with status code: 400\n",
      "Request failed with status code: 400\n",
      "Request failed with status code: 400\n",
      "Request failed with status code: 400\n",
      "Request failed with status code: 400\n",
      "Request failed with status code: 400\n",
      "Request failed with status code: 400\n",
      "Request failed with status code: 400\n",
      "Request failed with status code: 400\n",
      "Request failed with status code: 400\n",
      "Request failed with status code: 400\n",
      "Request failed with status code: 400\n",
      "Request failed with status code: 400\n",
      "Request failed with status code: 400\n",
      "Request failed with status code: 400\n",
      "Request failed with status code: 400\n",
      "Request failed with status code: 400\n",
      "Request failed with status code: 400\n",
      "Request failed with status code: 400\n",
      "Request failed with status code: 400\n",
      "Request failed with status code: 400\n",
      "Request failed with status code: 400\n",
      "Request failed with status code: 400\n",
      "Request failed with status code: 400\n",
      "Request failed with status code: 400\n",
      "Request failed with status code: 400\n",
      "Request failed with status code: 400\n",
      "Request failed with status code: 400\n",
      "Request failed with status code: 400\n",
      "Request failed with status code: 400\n",
      "Request failed with status code: 400\n",
      "Request failed with status code: 400\n",
      "Request failed with status code: 400\n",
      "Request failed with status code: 400\n",
      "Request failed with status code: 400\n",
      "Request failed with status code: 400\n",
      "Request failed with status code: 400\n",
      "Request failed with status code: 400\n",
      "Request failed with status code: 400\n",
      "Request failed with status code: 400\n",
      "Request failed with status code: 400\n",
      "Request failed with status code: 400\n",
      "Request failed with status code: 400\n"
     ]
    }
   ],
   "source": [
    "img_ext_urls = []\n",
    "img_int_urls = []\n",
    "for (_, market_id, model_id, conf_id) in tqdm(df_ev[['market_id', 'model_id', 'conf_id']].itertuples()):\n",
    "    url = f'https://api.mercedes-benz.com/configurator/v2/markets/{market_id}/models/{model_id}/configurations/{conf_id}/images/vehicle?perspectives=EXT020%2CINT1&roofOpen=false&night=false&background=true'\n",
    "    response = requests.get(url, headers={'x-api-key': api_key})\n",
    "    if response.status_code == 200:\n",
    "        imgs = response.json()\n",
    "    else:\n",
    "        print(\"Request failed with status code:\", response.status_code)\n",
    "        imgs = {'vehicle': {'EXT020': {'url': None}, 'INT1': {'url': None}}}\n",
    "    \n",
    "    img_ext_urls.append(imgs['vehicle']['EXT020']['url'])\n",
    "    img_int_urls.append(imgs['vehicle']['INT1']['url'])"
   ]
  },
  {
   "cell_type": "code",
   "execution_count": 24,
   "metadata": {},
   "outputs": [],
   "source": [
    "df_ev['img_ext_url'] = img_ext_urls\n",
    "df_ev['img_int_url'] = img_int_urls"
   ]
  },
  {
   "cell_type": "code",
   "execution_count": 25,
   "metadata": {},
   "outputs": [
    {
     "data": {
      "text/plain": [
       "93"
      ]
     },
     "execution_count": 25,
     "metadata": {},
     "output_type": "execute_result"
    }
   ],
   "source": [
    "df_ev['img_ext_url'].isna().sum()"
   ]
  },
  {
   "cell_type": "code",
   "execution_count": 27,
   "metadata": {},
   "outputs": [
    {
     "data": {
      "text/plain": [
       "15"
      ]
     },
     "execution_count": 27,
     "metadata": {},
     "output_type": "execute_result"
    }
   ],
   "source": [
    "(~df_ev['img_int_url'].isna()).sum()"
   ]
  },
  {
   "cell_type": "code",
   "execution_count": 33,
   "metadata": {},
   "outputs": [
    {
     "data": {
      "application/vnd.jupyter.widget-view+json": {
       "model_id": "c6d1247854df4843b8b3a6a4a131981b",
       "version_major": 2,
       "version_minor": 0
      },
      "text/plain": [
       "0it [00:00, ?it/s]"
      ]
     },
     "metadata": {},
     "output_type": "display_data"
    }
   ],
   "source": [
    "from PIL import Image\n",
    "from io import BytesIO\n",
    "\n",
    "img_ext_path = []\n",
    "img_int_path = []\n",
    "\n",
    "img_num = 0\n",
    "\n",
    "for _, url_ext, url_int in tqdm(df_ev[['img_ext_url', 'img_int_url']].itertuples()):\n",
    "    img_num += 1\n",
    "\n",
    "    if url_ext is not None:\n",
    "        response = requests.get(url_ext)\n",
    "        image_content = response.content\n",
    "\n",
    "        # Create an Image object from the image content\n",
    "        image = Image.open(BytesIO(image_content))\n",
    "        path = f'imgs/{img_num}_ext.jpg'\n",
    "        image.save(path)\n",
    "        img_ext_path.append(path)\n",
    "    else:\n",
    "        img_ext_path.append(None)\n",
    "\n",
    "\n",
    "    if url_int is not None:\n",
    "        response = requests.get(url_int)\n",
    "        image_content = response.content\n",
    "\n",
    "        # Create an Image object from the image content\n",
    "        image = Image.open(BytesIO(image_content))\n",
    "        path = f'imgs/{img_num}_int.jpg'\n",
    "        image.save(path)\n",
    "        img_int_path.append(path)\n",
    "    else:\n",
    "        img_int_path.append(None)\n",
    "\n",
    "df_ev['img_ext_path'] = img_ext_path\n",
    "df_ev['img_int_path'] = img_int_path"
   ]
  },
  {
   "cell_type": "code",
   "execution_count": 34,
   "metadata": {},
   "outputs": [],
   "source": [
    "df_ev.to_csv('mercedes_ev.csv', index=False)"
   ]
  },
  {
   "cell_type": "code",
   "execution_count": 36,
   "metadata": {},
   "outputs": [
    {
     "data": {
      "text/plain": [
       "Index(['market_id', 'model_id', 'type_class', 'name', 'short_name', 'brand',\n",
       "       'baumuster', 'class', 'body', 'model_year', 'product_group',\n",
       "       'all_terrain', 'currency', 'net_price', 'price', 'steering_position',\n",
       "       'conf_url', 'conf_id', 'img_ext_url', 'img_int_url', 'img_ext_path',\n",
       "       'img_int_path'],\n",
       "      dtype='object')"
      ]
     },
     "execution_count": 36,
     "metadata": {},
     "output_type": "execute_result"
    }
   ],
   "source": [
    "df_ev.columns"
   ]
  },
  {
   "cell_type": "code",
   "execution_count": 38,
   "metadata": {},
   "outputs": [],
   "source": [
    "df_ev[['market_id', 'model_id', 'name', 'short_name', 'brand', 'class', 'body', 'all_terrain', 'currency', 'net_price', 'price', 'img_ext_path', 'img_int_path']].to_csv('mercedes_ev_llm.csv', index=None)"
   ]
  },
  {
   "cell_type": "code",
   "execution_count": null,
   "metadata": {},
   "outputs": [],
   "source": []
  },
  {
   "cell_type": "code",
   "execution_count": null,
   "metadata": {},
   "outputs": [],
   "source": []
  },
  {
   "cell_type": "code",
   "execution_count": null,
   "metadata": {},
   "outputs": [],
   "source": []
  },
  {
   "cell_type": "markdown",
   "metadata": {},
   "source": [
    "# Experiments"
   ]
  },
  {
   "cell_type": "code",
   "execution_count": null,
   "metadata": {},
   "outputs": [],
   "source": [
    "url = f'https://api.mercedes-benz.com/configurator/v2/vehicle-models/markets/de_DE/baumuster/2437011?modelYear=805'\n",
    "response = requests.get(url, headers=headers)\n",
    "if response.status_code == 200:\n",
    "    details = response.json()\n",
    "else:\n",
    "    print(\"Request failed with status code:\", response.status_code)\n"
   ]
  },
  {
   "cell_type": "code",
   "execution_count": null,
   "metadata": {},
   "outputs": [],
   "source": [
    "api_key"
   ]
  },
  {
   "cell_type": "code",
   "execution_count": null,
   "metadata": {},
   "outputs": [],
   "source": []
  },
  {
   "cell_type": "code",
   "execution_count": null,
   "metadata": {},
   "outputs": [],
   "source": []
  },
  {
   "cell_type": "code",
   "execution_count": null,
   "metadata": {},
   "outputs": [],
   "source": []
  },
  {
   "cell_type": "code",
   "execution_count": null,
   "metadata": {},
   "outputs": [],
   "source": []
  },
  {
   "cell_type": "code",
   "execution_count": null,
   "metadata": {},
   "outputs": [],
   "source": []
  },
  {
   "cell_type": "code",
   "execution_count": null,
   "metadata": {},
   "outputs": [],
   "source": [
    "language = 'en'\n",
    "\n",
    "url = f'https://api.mercedes-benz.com/configurator/v2/markets?language={language}'\n",
    "\n",
    "headers = {\n",
    "    'accept': 'application/json',\n",
    "    'x-api-key': api_key,\n",
    "}\n",
    "\n",
    "response = requests.get(url, headers=headers)\n",
    "if response.status_code == 200:\n",
    "    markets = response.json()\n",
    "else:\n",
    "    print(\"Request failed with status code:\", response.status_code)"
   ]
  },
  {
   "cell_type": "code",
   "execution_count": null,
   "metadata": {},
   "outputs": [],
   "source": [
    "market_id = markets[0]['marketId']"
   ]
  },
  {
   "cell_type": "code",
   "execution_count": null,
   "metadata": {},
   "outputs": [],
   "source": [
    "url = f'https://api.mercedes-benz.com/configurator/v2/markets/{market_id}/bodies'\n",
    "\n",
    "response = requests.get(url, headers=headers)\n",
    "if response.status_code == 200:\n",
    "    bodies = response.json()\n",
    "else:\n",
    "    print(\"Request failed with status code:\", response.status_code)"
   ]
  },
  {
   "cell_type": "code",
   "execution_count": null,
   "metadata": {},
   "outputs": [],
   "source": [
    "body_id = bodies[2]['bodyId']"
   ]
  },
  {
   "cell_type": "code",
   "execution_count": null,
   "metadata": {},
   "outputs": [],
   "source": [
    "url = f'https://api.mercedes-benz.com/configurator/v2/markets/{market_id}/models?bodyId={body_id}'\n",
    "\n",
    "response = requests.get(url, headers=headers)\n",
    "if response.status_code == 200:\n",
    "    models = response.json()\n",
    "else:\n",
    "    print(\"Request failed with status code:\", response.status_code)"
   ]
  },
  {
   "cell_type": "code",
   "execution_count": null,
   "metadata": {},
   "outputs": [],
   "source": [
    "model_id = models[0]['modelId']"
   ]
  },
  {
   "cell_type": "code",
   "execution_count": null,
   "metadata": {},
   "outputs": [],
   "source": [
    "url = models[0]['_links']['configurations']\n",
    "\n",
    "response = requests.get(url, headers=headers)\n",
    "if response.status_code == 200:\n",
    "    configurations = response.json()\n",
    "else:\n",
    "    print(\"Request failed with status code:\", response.status_code)"
   ]
  },
  {
   "cell_type": "code",
   "execution_count": null,
   "metadata": {},
   "outputs": [],
   "source": [
    "url = configurations['_links']['selectables']\n",
    "response = requests.get(url, headers=headers)\n",
    "if response.status_code == 200:\n",
    "    selectables = response.json()\n",
    "else:\n",
    "    print(\"Request failed with status code:\", response.status_code)"
   ]
  },
  {
   "cell_type": "code",
   "execution_count": null,
   "metadata": {},
   "outputs": [],
   "source": [
    "conf_id = configurations['configurationId']"
   ]
  },
  {
   "cell_type": "code",
   "execution_count": null,
   "metadata": {},
   "outputs": [],
   "source": [
    "url = f'https://api.mercedes-benz.com/configurator/v2/markets/{market_id}/models/{model_id}/configurations/{conf_id}/images/vehicle?perspectives=EXT020%2CINT1&roofOpen=false&night=false&background=true'\n",
    "\n",
    "response = requests.get(url, headers={'x-api-key': api_key})\n",
    "if response.status_code == 200:\n",
    "    imgs = response.json()\n",
    "else:\n",
    "    print(\"Request failed with status code:\", response.status_code)\n"
   ]
  },
  {
   "cell_type": "code",
   "execution_count": null,
   "metadata": {},
   "outputs": [],
   "source": [
    "imgs['vehicle']['EXT020']['url']"
   ]
  },
  {
   "cell_type": "code",
   "execution_count": null,
   "metadata": {},
   "outputs": [],
   "source": [
    "vehicle_id = configurations['vehicleId']"
   ]
  },
  {
   "cell_type": "code",
   "execution_count": null,
   "metadata": {},
   "outputs": [],
   "source": [
    "url = f'https://api.mercedes-benz.com/configurator/v2/stocksearch/vehicles/{vehicle_id}'\n",
    "response = requests.get(url, headers=headers)\n",
    "if response.status_code == 200:\n",
    "    stocks = response.json()\n",
    "else:\n",
    "    print(\"Request failed with status code:\", response.status_code)\n"
   ]
  },
  {
   "cell_type": "code",
   "execution_count": null,
   "metadata": {},
   "outputs": [],
   "source": [
    "api_key"
   ]
  },
  {
   "cell_type": "code",
   "execution_count": null,
   "metadata": {},
   "outputs": [],
   "source": [
    "!curl -X GET \"$url\" -H \"accept: application/json\" -H \"x-api-key:$api_key\""
   ]
  },
  {
   "cell_type": "code",
   "execution_count": null,
   "metadata": {},
   "outputs": [],
   "source": [
    "url = f'https://api.mercedes-benz.com/configurator/v2/vehicle-models/markets/{market_id}'\n",
    "\n",
    "response = requests.get(url, headers={'x-api-key': api_key})\n",
    "if response.status_code == 200:\n",
    "    detailed = response.json()\n",
    "else:\n",
    "    print(\"Request failed with status code:\", response.status_code)\n"
   ]
  },
  {
   "cell_type": "code",
   "execution_count": null,
   "metadata": {},
   "outputs": [],
   "source": []
  },
  {
   "cell_type": "code",
   "execution_count": null,
   "metadata": {},
   "outputs": [],
   "source": [
    "models[0]"
   ]
  },
  {
   "cell_type": "code",
   "execution_count": null,
   "metadata": {},
   "outputs": [],
   "source": [
    "baumuster = models[0]['baumuster']\n",
    "model_year = models[0]['modelYear']"
   ]
  },
  {
   "cell_type": "code",
   "execution_count": null,
   "metadata": {},
   "outputs": [],
   "source": [
    "url = f'https://api.mercedes-benz.com/configurator/v2/vehicle-models/markets/{market_id}/baumuster/{baumuster}?modelYear={model_year}'\n",
    "response = requests.get(url, headers=headers)\n",
    "if response.status_code == 200:\n",
    "    detailed = response.json()\n",
    "else:\n",
    "    print(\"Request failed with status code:\", response.status_code)\n"
   ]
  }
 ],
 "metadata": {
  "kernelspec": {
   "display_name": "base",
   "language": "python",
   "name": "python3"
  },
  "language_info": {
   "codemirror_mode": {
    "name": "ipython",
    "version": 3
   },
   "file_extension": ".py",
   "mimetype": "text/x-python",
   "name": "python",
   "nbconvert_exporter": "python",
   "pygments_lexer": "ipython3",
   "version": "3.12.2"
  }
 },
 "nbformat": 4,
 "nbformat_minor": 2
}
